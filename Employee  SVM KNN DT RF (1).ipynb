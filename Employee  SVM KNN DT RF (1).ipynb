{
 "cells": [
  {
   "cell_type": "markdown",
   "metadata": {},
   "source": [
    "# Employee Attrition prediction using KNN, RF, DT and SVM with up-sampling to the data"
   ]
  },
  {
   "cell_type": "code",
   "execution_count": 1,
   "metadata": {},
   "outputs": [],
   "source": [
    "import os\n",
    "\n",
    "import matplotlib.pyplot as plt\n",
    "from matplotlib.gridspec import GridSpec\n",
    "import numpy as np\n",
    "import pandas as pd\n",
    "import seaborn as sns\n",
    "from sklearn.linear_model import LogisticRegression\n",
    "from sklearn.neighbors import KNeighborsClassifier\n",
    "from sklearn.ensemble import RandomForestClassifier, GradientBoostingClassifier\n",
    "from sklearn.svm import SVC\n",
    "from sklearn.preprocessing import StandardScaler\n",
    "from sklearn.decomposition import PCA\n",
    "from sklearn.metrics import (accuracy_score,\n",
    "                             f1_score,\n",
    "                             roc_auc_score,\n",
    "                             roc_curve,\n",
    "                             confusion_matrix)\n",
    "from sklearn.model_selection import (cross_val_score,\n",
    "                                     GridSearchCV,\n",
    "                                     RandomizedSearchCV,\n",
    "                                     learning_curve,\n",
    "                                     validation_curve,\n",
    "                                     train_test_split)\n",
    "from sklearn.pipeline import make_pipeline\n",
    "from sklearn.utils import resample\n",
    "from warnings import filterwarnings\n",
    "\n",
    "\n",
    "%matplotlib inline"
   ]
  },
  {
   "cell_type": "code",
   "execution_count": 2,
   "metadata": {},
   "outputs": [
    {
     "name": "stdout",
     "output_type": "stream",
     "text": [
      "\u001b[1m\u001b[94mData types:\n",
      "-----------\n",
      "\u001b[30msatisfaction_level       float64\n",
      "last_evaluation          float64\n",
      "number_project             int64\n",
      "average_montly_hours       int64\n",
      "time_spend_company         int64\n",
      "Work_accident              int64\n",
      "left                       int64\n",
      "promotion_last_5years      int64\n",
      "sales                     object\n",
      "salary                    object\n",
      "dtype: object\n",
      "\n",
      "\u001b[1m\u001b[94mSum of null values in each column:\n",
      "-----------------------------------\n",
      "\u001b[30msatisfaction_level       0\n",
      "last_evaluation          0\n",
      "number_project           0\n",
      "average_montly_hours     0\n",
      "time_spend_company       0\n",
      "Work_accident            0\n",
      "left                     0\n",
      "promotion_last_5years    0\n",
      "sales                    0\n",
      "salary                   0\n",
      "dtype: int64\n"
     ]
    },
    {
     "data": {
      "text/html": [
       "<div>\n",
       "<style scoped>\n",
       "    .dataframe tbody tr th:only-of-type {\n",
       "        vertical-align: middle;\n",
       "    }\n",
       "\n",
       "    .dataframe tbody tr th {\n",
       "        vertical-align: top;\n",
       "    }\n",
       "\n",
       "    .dataframe thead th {\n",
       "        text-align: right;\n",
       "    }\n",
       "</style>\n",
       "<table border=\"1\" class=\"dataframe\">\n",
       "  <thead>\n",
       "    <tr style=\"text-align: right;\">\n",
       "      <th></th>\n",
       "      <th>satisfaction_level</th>\n",
       "      <th>last_evaluation</th>\n",
       "      <th>number_project</th>\n",
       "      <th>average_montly_hours</th>\n",
       "      <th>time_spend_company</th>\n",
       "      <th>Work_accident</th>\n",
       "      <th>left</th>\n",
       "      <th>promotion_last_5years</th>\n",
       "      <th>sales</th>\n",
       "      <th>salary</th>\n",
       "    </tr>\n",
       "  </thead>\n",
       "  <tbody>\n",
       "    <tr>\n",
       "      <th>0</th>\n",
       "      <td>0.38</td>\n",
       "      <td>0.53</td>\n",
       "      <td>2</td>\n",
       "      <td>157</td>\n",
       "      <td>3</td>\n",
       "      <td>0</td>\n",
       "      <td>1</td>\n",
       "      <td>0</td>\n",
       "      <td>sales</td>\n",
       "      <td>low</td>\n",
       "    </tr>\n",
       "    <tr>\n",
       "      <th>1</th>\n",
       "      <td>0.80</td>\n",
       "      <td>0.86</td>\n",
       "      <td>5</td>\n",
       "      <td>262</td>\n",
       "      <td>6</td>\n",
       "      <td>0</td>\n",
       "      <td>1</td>\n",
       "      <td>0</td>\n",
       "      <td>sales</td>\n",
       "      <td>medium</td>\n",
       "    </tr>\n",
       "    <tr>\n",
       "      <th>2</th>\n",
       "      <td>0.11</td>\n",
       "      <td>0.88</td>\n",
       "      <td>7</td>\n",
       "      <td>272</td>\n",
       "      <td>4</td>\n",
       "      <td>0</td>\n",
       "      <td>1</td>\n",
       "      <td>0</td>\n",
       "      <td>sales</td>\n",
       "      <td>medium</td>\n",
       "    </tr>\n",
       "    <tr>\n",
       "      <th>3</th>\n",
       "      <td>0.72</td>\n",
       "      <td>0.87</td>\n",
       "      <td>5</td>\n",
       "      <td>223</td>\n",
       "      <td>5</td>\n",
       "      <td>0</td>\n",
       "      <td>1</td>\n",
       "      <td>0</td>\n",
       "      <td>sales</td>\n",
       "      <td>low</td>\n",
       "    </tr>\n",
       "    <tr>\n",
       "      <th>4</th>\n",
       "      <td>0.37</td>\n",
       "      <td>0.52</td>\n",
       "      <td>2</td>\n",
       "      <td>159</td>\n",
       "      <td>3</td>\n",
       "      <td>0</td>\n",
       "      <td>1</td>\n",
       "      <td>0</td>\n",
       "      <td>sales</td>\n",
       "      <td>low</td>\n",
       "    </tr>\n",
       "  </tbody>\n",
       "</table>\n",
       "</div>"
      ],
      "text/plain": [
       "   satisfaction_level  last_evaluation  number_project  average_montly_hours  \\\n",
       "0                0.38             0.53               2                   157   \n",
       "1                0.80             0.86               5                   262   \n",
       "2                0.11             0.88               7                   272   \n",
       "3                0.72             0.87               5                   223   \n",
       "4                0.37             0.52               2                   159   \n",
       "\n",
       "   time_spend_company  Work_accident  left  promotion_last_5years  sales  \\\n",
       "0                   3              0     1                      0  sales   \n",
       "1                   6              0     1                      0  sales   \n",
       "2                   4              0     1                      0  sales   \n",
       "3                   5              0     1                      0  sales   \n",
       "4                   3              0     1                      0  sales   \n",
       "\n",
       "   salary  \n",
       "0     low  \n",
       "1  medium  \n",
       "2  medium  \n",
       "3     low  \n",
       "4     low  "
      ]
     },
     "execution_count": 2,
     "metadata": {},
     "output_type": "execute_result"
    }
   ],
   "source": [
    "import sys\n",
    "import pandas as pd # data processing, CSV file I/O\n",
    "import numpy as np # linear algebra\n",
    "import sklearn\n",
    "import matplotlib\n",
    "import matplotlib.pyplot as plt\n",
    "from pandas.plotting import scatter_matrix\n",
    "import seaborn as sns\n",
    "\n",
    "# Load the data\n",
    "df = pd.read_csv('Downloads/HR_comma_sep.csv')\n",
    "# Check both the datatypes and if there is missing values\n",
    "print('\\033[1m' + '\\033[94m' + 'Data types:\\n' + 11 * '-')\n",
    "print('\\033[30m' + '{}\\n'.format(df.dtypes))\n",
    "print('\\033[1m' + '\\033[94m' + 'Sum of null values in each column:\\n' + 35 * '-')\n",
    "print('\\033[30m' + '{}'.format(df.isnull().sum()))\n",
    "df.head()"
   ]
  },
  {
   "cell_type": "markdown",
   "metadata": {},
   "source": [
    "* There are no missing values, no imputation required. However, data preprocessing is needed:\n",
    "* Changing sales feature name to department.\n",
    "* Convert salary into ordinal categorical feature since there is intrinsic order between: low, medium and high.\n",
    "* Create dummy features from department feature and drop the first one to avoid linear dependency where some learning algorithms may struggle.\n"
   ]
  },
  {
   "cell_type": "code",
   "execution_count": 3,
   "metadata": {},
   "outputs": [],
   "source": [
    "# Rename sales feature into department\n",
    "df = df.rename(columns={\"sales\": \"department\"})\n",
    "# Map salary into integers\n",
    "salary_map = {\"low\": 0, \"medium\": 1, \"high\": 2}\n",
    "df[\"salary\"] = df[\"salary\"].map(salary_map)\n",
    "# Create dummy variables for department feature\n",
    "df = pd.get_dummies(df, columns=[\"department\"], drop_first=True)"
   ]
  },
  {
   "cell_type": "markdown",
   "metadata": {},
   "source": [
    "# Modeling\n",
    "Let’s look at the ratio of each class to see if there are balanced or imbalanced data, since each one has its own set of tools to be used when fitting classifiers."
   ]
  },
  {
   "cell_type": "code",
   "execution_count": 4,
   "metadata": {},
   "outputs": [
    {
     "name": "stdout",
     "output_type": "stream",
     "text": [
      "Positive examples = 3571\n",
      "Negative examples = 11428\n",
      "Proportion of positive to negative examples = 31.25%\n"
     ]
    },
    {
     "name": "stderr",
     "output_type": "stream",
     "text": [
      "C:\\ProgramData\\Anaconda3\\lib\\site-packages\\seaborn\\_decorators.py:36: FutureWarning: Pass the following variable as a keyword arg: x. From version 0.12, the only valid positional argument will be `data`, and passing other arguments without an explicit keyword will result in an error or misinterpretation.\n",
      "  warnings.warn(\n"
     ]
    },
    {
     "data": {
      "image/png": "[encoded data removed]",
      "text/plain": [
       "<Figure size 432x288 with 1 Axes>"
      ]
     },
     "metadata": {
      "needs_background": "light"
     },
     "output_type": "display_data"
    }
   ],
   "source": [
    "# Get number of positve and negative examples\n",
    "pos = df[df[\"left\"] == 1].shape[0]\n",
    "neg = df[df[\"left\"] == 0].shape[0]\n",
    "print(\"Positive examples = {}\".format(pos))\n",
    "print(\"Negative examples = {}\".format(neg))\n",
    "print(\"Proportion of positive to negative examples = {:.2f}%\".format((pos / neg) * 100))\n",
    "sns.countplot(df[\"left\"])\n",
    "plt.xticks((0, 1), [\"Didn't leave\", \"Left\"])\n",
    "plt.xlabel(\"Left\")\n",
    "plt.ylabel(\"Count\")\n",
    "plt.title(\"Class counts\");"
   ]
  },
  {
   "cell_type": "markdown",
   "metadata": {},
   "source": [
    "The above graph shows, we have an imbalanced dataset. As a result, when we fit classifiers on such datasets, we should use metrics other than accuracy when comparing models such as f1-score or AUC (area under ROC curve). Moreover, class imbalance influences a learning algorithm during training by making the decision rule biased towards the majority class by implicitly learns a model that optimizes the predictions based on the majority class in the dataset. There are three ways to deal with this issue:\n",
    "* 1- Assign a larger penalty to wrong predictions from the minority class.\n",
    "* 2- Upsampling the minority class or downsampling the majority class.\n",
    "* 3- Generate synthetic training examples."
   ]
  },
  {
   "cell_type": "code",
   "execution_count": 5,
   "metadata": {},
   "outputs": [
    {
     "name": "stdout",
     "output_type": "stream",
     "text": [
      "Requirement already satisfied: resample in c:\\programdata\\anaconda3\\lib\\site-packages (1.0.1)\n",
      "Requirement already satisfied: scipy>=1.5 in c:\\programdata\\anaconda3\\lib\\site-packages (from resample) (1.5.2)\n",
      "Requirement already satisfied: numpy>=1.17 in c:\\programdata\\anaconda3\\lib\\site-packages (from resample) (1.19.2)\n"
     ]
    }
   ],
   "source": [
    "! pip install resample"
   ]
  },
  {
   "cell_type": "code",
   "execution_count": 7,
   "metadata": {},
   "outputs": [
    {
     "name": "stdout",
     "output_type": "stream",
     "text": [
      "Original shape: (11999, 17) (11999,)\n",
      "Upsampled shape: (18284, 17) (18284,)\n",
      "Downsampled shape: (5714, 17) (5714,)\n"
     ]
    }
   ],
   "source": [
    "from sklearn.model_selection import train_test_split\n",
    "from pandas.tseries.frequencies import to_offset\n",
    "from sklearn.utils import resample\n",
    "\n",
    "# Convert dataframe into numpy objects and split them into\n",
    "# train and test sets: 80/20\n",
    "X = df.loc[:, df.columns != \"left\"].values\n",
    "y = df.loc[:, df.columns == \"left\"].values.flatten()\n",
    "X_train, X_test, y_train, y_test = train_test_split(\n",
    "    X, y, test_size=0.2, stratify=y, random_state=1)\n",
    "# Upsample minority class\n",
    "X_train_u, y_train_u = resample(X_train[y_train == 1],\n",
    "                                y_train[y_train == 1],\n",
    "                                replace=True,\n",
    "                                n_samples=X_train[y_train == 0].shape[0],\n",
    "                                random_state=1)\n",
    "X_train_u = np.concatenate((X_train[y_train == 0], X_train_u))\n",
    "y_train_u = np.concatenate((y_train[y_train == 0], y_train_u))\n",
    "# Downsample majority class\n",
    "X_train_d, y_train_d = resample(X_train[y_train == 0],\n",
    "                                y_train[y_train == 0],\n",
    "                                replace=True,\n",
    "                                n_samples=X_train[y_train == 1].shape[0],\n",
    "                                random_state=1)\n",
    "X_train_d = np.concatenate((X_train[y_train == 1], X_train_d))\n",
    "y_train_d = np.concatenate((y_train[y_train == 1], y_train_d))\n",
    "print(\"Original shape:\", X_train.shape, y_train.shape)\n",
    "print(\"Upsampled shape:\", X_train_u.shape, y_train_u.shape)\n",
    "print(\"Downsampled shape:\", X_train_d.shape, y_train_d.shape)"
   ]
  },
  {
   "cell_type": "markdown",
   "metadata": {},
   "source": [
    "# Lets see how many principal components needed to explain 90%, 95% and 99% of the variation in the data."
   ]
  },
  {
   "cell_type": "code",
   "execution_count": 8,
   "metadata": {},
   "outputs": [
    {
     "data": {
      "image/png": "[encoded data removed]",
      "text/plain": [
       "<Figure size 864x432 with 1 Axes>"
      ]
     },
     "metadata": {
      "needs_background": "light"
     },
     "output_type": "display_data"
    }
   ],
   "source": [
    "from sklearn.decomposition import PCA\n",
    "from sklearn.preprocessing import StandardScaler\n",
    "\n",
    "# Build PCA using standarized trained data\n",
    "pca = PCA(n_components=None, svd_solver=\"full\")\n",
    "pca.fit(StandardScaler().fit_transform(X_train))\n",
    "cum_var_exp = np.cumsum(pca.explained_variance_ratio_)\n",
    "plt.figure(figsize=(12, 6))\n",
    "plt.bar(range(1, 18), pca.explained_variance_ratio_, align=\"center\",\n",
    "        color='red', label=\"Individual explained variance\")\n",
    "plt.step(range(1, 18), cum_var_exp, where=\"mid\", label=\"Cumulative explained variance\")\n",
    "plt.xticks(range(1, 18))\n",
    "plt.legend(loc=\"best\")\n",
    "plt.xlabel(\"Principal component index\", {\"fontsize\": 14})\n",
    "plt.ylabel(\"Explained variance ratio\", {\"fontsize\": 14})\n",
    "plt.title(\"PCA on training data\", {\"fontsize\": 16});"
   ]
  },
  {
   "cell_type": "markdown",
   "metadata": {},
   "source": [
    "# Random Forest"
   ]
  },
  {
   "cell_type": "code",
   "execution_count": 9,
   "metadata": {},
   "outputs": [],
   "source": [
    "from sklearn.pipeline import Pipeline\n",
    "from sklearn.svm import SVC\n",
    "from sklearn.decomposition import PCA\n",
    "from sklearn.pipeline import make_pipeline\n",
    "from sklearn.naive_bayes import MultinomialNB\n",
    "from sklearn.preprocessing import Binarizer\n",
    "from sklearn.ensemble import RandomForestClassifier\n",
    "from sklearn.datasets import make_classification\n",
    "from sklearn.model_selection import GridSearchCV"
   ]
  },
  {
   "cell_type": "code",
   "execution_count": 37,
   "metadata": {
    "scrolled": true
   },
   "outputs": [
    {
     "name": "stdout",
     "output_type": "stream",
     "text": [
      "\u001b[1m\u001b[0mThe best hyperparameters for Original data:\n",
      "criterion :  gini\n",
      "max_features :  0.5\n",
      "min_samples_leaf :  1\n",
      "n_estimators :  500\n",
      "\u001b[1m\u001b[94mBest 10-folds CV f1-score: 98.23%.\n",
      "\u001b[1m\u001b[0mThe best hyperparameters for Upsampled data:\n",
      "criterion :  entropy\n",
      "max_features :  0.4\n",
      "min_samples_leaf :  1\n",
      "n_estimators :  500\n",
      "\u001b[1m\u001b[94mBest 10-folds CV f1-score: 99.80%.\n",
      "\u001b[1m\u001b[0mThe best hyperparameters for Downsampled data:\n",
      "criterion :  gini\n",
      "max_features :  0.5\n",
      "min_samples_leaf :  1\n",
      "n_estimators :  50\n",
      "\u001b[1m\u001b[94mBest 10-folds CV f1-score: 98.46%.\n"
     ]
    }
   ],
   "source": [
    "from sklearn.pipeline import Pipeline\n",
    "# Build random forest classifier\n",
    "methods_data = {\"Original\": (X_train, y_train),\n",
    "                \"Upsampled\": (X_train_u, y_train_u),\n",
    "                \"Downsampled\": (X_train_d, y_train_d)}\n",
    "for method in methods_data.keys():\n",
    "    pip_rf = make_pipeline(StandardScaler(),\n",
    "                           RandomForestClassifier(n_estimators=500,\n",
    "                                                  class_weight=\"balanced\",\n",
    "                                                  random_state=123))\n",
    "    \n",
    "    hyperparam_grid = {\n",
    "        \"randomforestclassifier__n_estimators\": [10, 50, 100, 500],\n",
    "        \"randomforestclassifier__max_features\": [\"sqrt\", \"log2\", 0.4, 0.5],\n",
    "        \"randomforestclassifier__min_samples_leaf\": [1, 3, 5],\n",
    "        \"randomforestclassifier__criterion\": [\"gini\", \"entropy\"]}\n",
    "    \n",
    "    gs_rf = GridSearchCV(pip_rf,\n",
    "                         hyperparam_grid,\n",
    "                         scoring=\"f1\",\n",
    "                         cv=10,\n",
    "                         n_jobs=-1)\n",
    "    \n",
    "    gs_rf.fit(methods_data[method][0], methods_data[method][1])\n",
    "    \n",
    "    print(f\"\\033[1m\\033[0mThe best hyperparameters for {method} data:\")\n",
    "    for hyperparam in gs_rf.best_params_.keys():\n",
    "        print(hyperparam[hyperparam.find(\"__\") + 2:], \": \", gs_rf.best_params_[hyperparam])\n",
    "        \n",
    "    print(f\"\\033[1m\\033[94mBest 10-folds CV f1-score: {gs_rf.best_score_ * 100:.2f}%.\")\n",
    "    "
   ]
  },
  {
   "cell_type": "code",
   "execution_count": 11,
   "metadata": {},
   "outputs": [],
   "source": [
    "from sklearn.metrics import roc_auc_score\n",
    "from sklearn.metrics import classification_report\n",
    "from sklearn.ensemble import RandomForestClassifier\n",
    "\n",
    "from sklearn import tree\n",
    "from sklearn.tree import DecisionTreeClassifier\n",
    "from sklearn.linear_model import LogisticRegression\n",
    "from sklearn.ensemble import ExtraTreesClassifier\n",
    "from sklearn.ensemble import BaggingClassifier\n",
    "from sklearn.ensemble import AdaBoostClassifier\n",
    "from sklearn.ensemble import GradientBoostingClassifier\n",
    "from sklearn.ensemble import VotingClassifier"
   ]
  },
  {
   "cell_type": "code",
   "execution_count": 12,
   "metadata": {},
   "outputs": [
    {
     "name": "stdout",
     "output_type": "stream",
     "text": [
      "\n",
      "\n",
      " ---Random Forest Model---\n",
      "Random Forest AUC = 0.99\n",
      "              precision    recall  f1-score   support\n",
      "\n",
      "           0       0.99      1.00      1.00      2286\n",
      "           1       1.00      0.97      0.98       714\n",
      "\n",
      "    accuracy                           0.99      3000\n",
      "   macro avg       0.99      0.99      0.99      3000\n",
      "weighted avg       0.99      0.99      0.99      3000\n",
      "\n"
     ]
    }
   ],
   "source": [
    "gs_rf.fit(X_train, y_train)\n",
    "print (\"\\n\\n ---Random Forest Model---\")\n",
    "gs_rf_roc_auc = roc_auc_score(y_test, gs_rf.predict(X_test))\n",
    "print (\"Random Forest AUC = %2.2f\" % gs_rf_roc_auc)\n",
    "print(classification_report(y_test, gs_rf.predict(X_test)))"
   ]
  },
  {
   "cell_type": "markdown",
   "metadata": {},
   "source": [
    "Upsampling yielded the highest CV f1-score with 99.8%. Therefore, we’ll be using the upsampled data to fit the rest of the classifiers. The new data now has 18,284 examples: 50% belonging to the positive class, and 50% belonging to the negative class.\n",
    "Let’s refit the Random Forest with Upsampled data using best hyperparameters tuned above and plot confusion matrix and ROC curve using test data."
   ]
  },
  {
   "cell_type": "markdown",
   "metadata": {},
   "source": [
    "# K-Nearest Neighbors\n",
    "KNN is called a lazy learning algorithm because it doesn’t learn or fit any parameter. It takes n_neighbors points from the training data closest to the point we're interested to predict it's class and take the mode (majority vote) of the classes for the neighboring point as its class. The two hyperparameters we're going to tune are:\n",
    "\n",
    "* n_neighbors: number of neighbors to use in prediction.\n",
    "* weights: how much weight to assign neighbors based on:\n",
    "    * “uniform”: all neighboring points have the same weight.\n",
    "    * “distance”: use the inverse of euclidean distance of each neighboring point used in prediction.\n",
    "Let’s fit KNN classifier and plot confusion matrix and ROC curve."
   ]
  },
  {
   "cell_type": "code",
   "execution_count": 13,
   "metadata": {},
   "outputs": [
    {
     "name": "stdout",
     "output_type": "stream",
     "text": [
      "\u001b[1m\u001b[0mThe best hyperparameters:\n",
      "-------------------------\n",
      "n_neighbors :  1\n",
      "weights :  uniform\n",
      "\u001b[1m\u001b[94mBest 10-folds CV f1-score: 92.87%.\n"
     ]
    }
   ],
   "source": [
    "# Build KNN classifier\n",
    "pip_knn = make_pipeline(StandardScaler(), KNeighborsClassifier())\n",
    "hyperparam_range = range(1, 20)\n",
    "gs_knn = GridSearchCV(pip_knn,\n",
    "                      param_grid={\"kneighborsclassifier__n_neighbors\": hyperparam_range,\n",
    "                                  \"kneighborsclassifier__weights\": [\"uniform\", \"distance\"]},\n",
    "                      scoring=\"f1\",\n",
    "                      cv=10,\n",
    "                      n_jobs=-1)\n",
    "gs_knn.fit(X_train, y_train)\n",
    "print(f\"\\033[1m\\033[0mThe best hyperparameters:\\n{'-' * 25}\")\n",
    "for hyperparam in gs_knn.best_params_.keys():\n",
    "    print(hyperparam[hyperparam.find(\"__\") + 2:], \": \", gs_knn.best_params_[hyperparam])\n",
    "print(\"\\033[1m\" + \"\\033[94m\" + \"Best 10-folds CV f1-score: {:.2f}%.\".format((gs_knn.best_score_) * 100))\n"
   ]
  },
  {
   "cell_type": "code",
   "execution_count": 14,
   "metadata": {},
   "outputs": [
    {
     "name": "stdout",
     "output_type": "stream",
     "text": [
      "\n",
      "\n",
      " ---KNN Model---\n",
      "kneighbors classifier AUC = 0.97\n",
      "              precision    recall  f1-score   support\n",
      "\n",
      "           0       0.99      0.97      0.98      2286\n",
      "           1       0.92      0.96      0.94       714\n",
      "\n",
      "    accuracy                           0.97      3000\n",
      "   macro avg       0.95      0.97      0.96      3000\n",
      "weighted avg       0.97      0.97      0.97      3000\n",
      "\n"
     ]
    }
   ],
   "source": [
    "gs_knn.fit(X_train, y_train)\n",
    "print (\"\\n\\n ---KNN Model---\")\n",
    "gs_knn_roc_auc = roc_auc_score(y_test, gs_knn.predict(X_test))\n",
    "print (\"kneighbors classifier AUC = %2.2f\" % gs_knn_roc_auc)\n",
    "print(classification_report(y_test, gs_knn.predict(X_test)))"
   ]
  },
  {
   "cell_type": "code",
   "execution_count": 42,
   "metadata": {},
   "outputs": [],
   "source": [
    "from sklearn.metrics import plot_confusion_matrix"
   ]
  },
  {
   "cell_type": "markdown",
   "metadata": {},
   "source": [
    "# Support Vector Machine (SVM)\n",
    "SVM is comutationally very expensive to tune it’s hyperparameters for two reasons:\n",
    "* 1- With big datasets, it becomes very slow.\n",
    "* 2- It has good number of hyperparameters to tune that takes very long time to tune on a CPU.\n",
    "Therefore, we’ll use recommended hyperparameters’ values from the paper we mentioned before that showed to yield the best performane on Penn Machine Learning Benchmark 165 datasets. The hyperparameters that we usually look to tune are:"
   ]
  },
  {
   "cell_type": "code",
   "execution_count": 15,
   "metadata": {},
   "outputs": [
    {
     "name": "stdout",
     "output_type": "stream",
     "text": [
      "\u001b[1m\u001b[94mThe 10-folds CV f1-score is: 92.14%\n"
     ]
    }
   ],
   "source": [
    "# Build SVM classifier\n",
    "clf_svc = make_pipeline(StandardScaler(),\n",
    "                        SVC(C=0.01,\n",
    "                            gamma=0.1,\n",
    "                            kernel=\"poly\",\n",
    "                            degree=5,\n",
    "                            coef0=10,\n",
    "                            probability=True))\n",
    "clf_svc.fit(X_train, y_train)\n",
    "svc_cv_scores = cross_val_score(clf_svc,\n",
    "                                X=X_train,\n",
    "                                y=y_train,\n",
    "                                scoring=\"f1\",\n",
    "                                cv=10,\n",
    "                                n_jobs=-1)\n",
    "# Print CV\n",
    "print(f\"\\033[1m\\033[94mThe 10-folds CV f1-score is: {np.mean(svc_cv_scores) * 100:.2f}%\")"
   ]
  },
  {
   "cell_type": "code",
   "execution_count": 16,
   "metadata": {},
   "outputs": [
    {
     "name": "stdout",
     "output_type": "stream",
     "text": [
      "\n",
      "\n",
      " ---SVM Model---\n",
      "SVM classifier AUC = 0.96\n",
      "              precision    recall  f1-score   support\n",
      "\n",
      "           0       0.98      0.98      0.98      2286\n",
      "           1       0.92      0.94      0.93       714\n",
      "\n",
      "    accuracy                           0.97      3000\n",
      "   macro avg       0.95      0.96      0.95      3000\n",
      "weighted avg       0.97      0.97      0.97      3000\n",
      "\n"
     ]
    }
   ],
   "source": [
    "clf_svc.fit(X_train, y_train)\n",
    "print (\"\\n\\n ---SVM Model---\")\n",
    "clf_svc_roc_auc = roc_auc_score(y_test, clf_svc.predict(X_test))\n",
    "print (\"SVM classifier AUC = %2.2f\" % clf_svc_roc_auc)\n",
    "print(classification_report(y_test, clf_svc.predict(X_test)))"
   ]
  },
  {
   "cell_type": "markdown",
   "metadata": {},
   "source": [
    "# Conclusion\n",
    "\n",
    "Let’s conclude by printing out the test accuracy rates for all classifiers we’ve trained so far and plot ROC curves. Finally, we’ll pick the classifier that has the highest area under ROC curve."
   ]
  },
  {
   "cell_type": "code",
   "execution_count": null,
   "metadata": {},
   "outputs": [],
   "source": [
    "\n",
    "# Print out accuracy score on test data\n",
    "print(\"The accuracy rate and f1-score on test data are:\")\n",
    "for estimator in estimators.keys():\n",
    "    print(\"{}: {:.2f}%, {:.2f}%.\".format(estimator,\n",
    "        accuracy_score(y_test, estimators[estimator].predict(X_test)) * 100,\n",
    "         f1_score(y_test, estimators[estimator].predict(X_test)) * 100))"
   ]
  },
  {
   "cell_type": "code",
   "execution_count": 18,
   "metadata": {},
   "outputs": [],
   "source": [
    "import numpy as np\n",
    "import matplotlib.pyplot as plt\n",
    "from itertools import cycle\n",
    "\n",
    "from sklearn import svm, datasets\n",
    "from sklearn.metrics import roc_curve, auc\n",
    "from sklearn.model_selection import train_test_split\n",
    "from sklearn.preprocessing import label_binarize\n",
    "from sklearn.multiclass import OneVsRestClassifier\n",
    "from scipy import interp\n",
    "from sklearn.metrics import roc_auc_score"
   ]
  },
  {
   "cell_type": "code",
   "execution_count": 20,
   "metadata": {},
   "outputs": [],
   "source": [
    "import matplotlib.pyplot as plt  \n",
    "from sklearn import datasets, metrics, model_selection, svm\n",
    "import numpy as np\n",
    "import matplotlib.pyplot as plt\n",
    "\n",
    "from sklearn import svm, datasets\n",
    "from sklearn.metrics import auc\n",
    "from sklearn.metrics import plot_roc_curve\n",
    "from sklearn.model_selection import StratifiedKFold"
   ]
  },
  {
   "cell_type": "code",
   "execution_count": 23,
   "metadata": {},
   "outputs": [],
   "source": [
    "from sklearn import datasets\n",
    "from sklearn.tree import DecisionTreeClassifier\n",
    "from sklearn.linear_model import LogisticRegression\n",
    "from sklearn.metrics import roc_curve, roc_auc_score\n",
    "from sklearn.model_selection import train_test_split\n",
    "import matplotlib.pyplot as plt"
   ]
  },
  {
   "cell_type": "code",
   "execution_count": 24,
   "metadata": {},
   "outputs": [
    {
     "data": {
      "image/png": "[encoded data removed]",
      "text/plain": [
       "<Figure size 864x432 with 1 Axes>"
      ]
     },
     "metadata": {
      "needs_background": "light"
     },
     "output_type": "display_data"
    }
   ],
   "source": [
    "# Refit RF classifier\n",
    "clf_rf = RandomForestClassifier(n_estimators=50,\n",
    "                                criterion=\"entropy\",\n",
    "                                max_features=0.4,\n",
    "                                min_samples_leaf=1,\n",
    "                                class_weight=\"balanced\",\n",
    "                                n_jobs=-1,\n",
    "                                random_state=123)\n",
    "\n",
    "\n",
    "clf_rf.fit(StandardScaler().fit_transform(X_train), y_train)\n",
    "\n",
    "# Plot features importance\n",
    "importances = clf_rf.feature_importances_\n",
    "indices = np.argsort(clf_rf.feature_importances_)[::-1]\n",
    "plt.figure(figsize=(12, 6))\n",
    "plt.bar(range(1, 18), importances[indices], align=\"center\")\n",
    "plt.xticks(range(1, 18), df.columns[df.columns != \"left\"][indices], rotation=90)\n",
    "plt.title(\"Feature Importance\", {\"fontsize\": 16});"
   ]
  },
  {
   "cell_type": "markdown",
   "metadata": {},
   "source": [
    "# Descision Tree "
   ]
  },
  {
   "cell_type": "code",
   "execution_count": 27,
   "metadata": {},
   "outputs": [],
   "source": [
    "from sklearn.tree import DecisionTreeClassifier\n",
    "dt = DecisionTreeClassifier()\n",
    "dt.fit(X_train, y_train)\n",
    "DecisionTreeClassifier(class_weight=None, criterion='gini', max_depth=None,\n",
    "max_features=None, max_leaf_nodes=None,\n",
    "min_impurity_split=1e-07, min_samples_leaf=1,\n",
    "min_samples_split=2, min_weight_fraction_leaf=0.0,\n",
    "presort=False, random_state=None, splitter='best')\n",
    "y_pred = dt.predict(X_test)"
   ]
  },
  {
   "cell_type": "code",
   "execution_count": 28,
   "metadata": {},
   "outputs": [
    {
     "data": {
      "text/plain": [
       "0.9774642140320696"
      ]
     },
     "execution_count": 28,
     "metadata": {},
     "output_type": "execute_result"
    }
   ],
   "source": [
    "from sklearn.metrics import roc_curve, auc\n",
    "false_positive_rate, true_positive_rate, thresholds = roc_curve(y_test, y_pred)\n",
    "roc_auc = auc(false_positive_rate, true_positive_rate)\n",
    "roc_auc"
   ]
  },
  {
   "cell_type": "code",
   "execution_count": 29,
   "metadata": {},
   "outputs": [
    {
     "data": {
      "image/png": "[encoded data removed]",
      "text/plain": [
       "<Figure size 432x288 with 1 Axes>"
      ]
     },
     "metadata": {
      "needs_background": "light"
     },
     "output_type": "display_data"
    }
   ],
   "source": [
    "max_depths = np.linspace(1, 32, 32, endpoint=True)\n",
    "train_results = []\n",
    "test_results = []\n",
    "for max_depth in max_depths:\n",
    "    dt = DecisionTreeClassifier(max_depth=max_depth)\n",
    "    dt.fit(X_train, y_train)\n",
    "    train_pred = dt.predict(X_train)\n",
    "    false_positive_rate, true_positive_rate, thresholds = roc_curve(y_train, train_pred)\n",
    "    roc_auc = auc(false_positive_rate, true_positive_rate)\n",
    "   # Add auc score to previous train results\n",
    "    train_results.append(roc_auc)\n",
    "    y_pred = dt.predict(X_test)\n",
    "    false_positive_rate, true_positive_rate, thresholds = roc_curve(y_test, y_pred)\n",
    "    roc_auc = auc(false_positive_rate, true_positive_rate)\n",
    "   # Add auc score to previous test results\n",
    "    test_results.append(roc_auc)\n",
    "from matplotlib.legend_handler import HandlerLine2D\n",
    "line1, = plt.plot(max_depths, train_results, 'b', label='Train AUC')\n",
    "line2, = plt.plot(max_depths, test_results, 'r', label='Test AUC')\n",
    "plt.legend(handler_map={line1: HandlerLine2D(numpoints=2)})\n",
    "plt.ylabel('AUC score')\n",
    "plt.xlabel('Tree depth')\n",
    "plt.show()"
   ]
  },
  {
   "cell_type": "markdown",
   "metadata": {},
   "source": [
    "the tree perfectly predicts all of the train data,"
   ]
  },
  {
   "cell_type": "code",
   "execution_count": 30,
   "metadata": {},
   "outputs": [
    {
     "name": "stdout",
     "output_type": "stream",
     "text": [
      "\n",
      "\n",
      " ---Descision Tree Model---\n",
      "Decision Tree classifier AUC = 0.98\n",
      "              precision    recall  f1-score   support\n",
      "\n",
      "           0       0.99      0.98      0.99      2286\n",
      "           1       0.95      0.97      0.96       714\n",
      "\n",
      "    accuracy                           0.98      3000\n",
      "   macro avg       0.97      0.98      0.97      3000\n",
      "weighted avg       0.98      0.98      0.98      3000\n",
      "\n"
     ]
    }
   ],
   "source": [
    "dt.fit(X_train, y_train)\n",
    "print (\"\\n\\n ---Descision Tree Model---\")\n",
    "dt_roc_auc = roc_auc_score(y_test, dt.predict(X_test))\n",
    "print (\"Decision Tree classifier AUC = %2.2f\" % dt_roc_auc)\n",
    "print(classification_report(y_test, dt.predict(X_test)))"
   ]
  },
  {
   "cell_type": "code",
   "execution_count": null,
   "metadata": {},
   "outputs": [],
   "source": []
  }
 ],
 "metadata": {
  "kernelspec": {
   "display_name": "Python 3",
   "language": "python",
   "name": "python3"
  },
  "language_info": {
   "codemirror_mode": {
    "name": "ipython",
    "version": 3
   },
   "file_extension": ".py",
   "mimetype": "text/x-python",
   "name": "python",
   "nbconvert_exporter": "python",
   "pygments_lexer": "ipython3",
   "version": "3.8.5"
  }
 },
 "nbformat": 4,
 "nbformat_minor": 4
}
